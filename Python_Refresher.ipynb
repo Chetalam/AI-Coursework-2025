{
 "cells": [
  {
   "cell_type": "markdown",
   "id": "38d2ae59",
   "metadata": {},
   "source": [
    "1. Number of seconds given the amount of days."
   ]
  },
  {
   "cell_type": "code",
   "execution_count": 20,
   "id": "40f5e8e3",
   "metadata": {},
   "outputs": [
    {
     "name": "stdout",
     "output_type": "stream",
     "text": [
      "The number of days are:  5 and the number of seconds are: 432000\n"
     ]
    }
   ],
   "source": [
    "# Enter number of days\n",
    "days = int (input (\"Enter the number of days: \"))\n",
    "\n",
    "# Calculate the number if seconds\n",
    "seconds = days * 24 * 60 * 60\n",
    "\n",
    "# Print the results\n",
    "print (\"The number of days are: \", days, \"and the number of seconds are:\", seconds)\n"
   ]
  },
  {
   "cell_type": "markdown",
   "id": "986a35c0",
   "metadata": {},
   "source": [
    "2. Volume of a sphere given the radius and formula for volume."
   ]
  },
  {
   "cell_type": "code",
   "execution_count": 19,
   "id": "6650c221",
   "metadata": {},
   "outputs": [
    {
     "name": "stdout",
     "output_type": "stream",
     "text": [
      "The radius is:  17.5  and the volume of the sphere is:  22449.297503777063\n"
     ]
    }
   ],
   "source": [
    "import math\n",
    "\n",
    "# Enter the radius\n",
    "radius = float (input (\"Enter the raidus pf the sphere: \"))\n",
    "\n",
    "# Calculate the volume \n",
    "volume = (4/3) * math.pi * (radius ** 3)\n",
    "\n",
    "# Print the result\n",
    "print (\"The radius is: \", radius, \" and the volume of the sphere is: \", volume)"
   ]
  },
  {
   "cell_type": "markdown",
   "id": "03a56658",
   "metadata": {},
   "source": [
    "3. Area and perimeter of a square given the length."
   ]
  },
  {
   "cell_type": "code",
   "execution_count": 18,
   "id": "d53dd071",
   "metadata": {},
   "outputs": [
    {
     "name": "stdout",
     "output_type": "stream",
     "text": [
      "The area of the square is:  225.0\n",
      "The perimeter of the square is: 60.0\n"
     ]
    }
   ],
   "source": [
    "# Formula for area \n",
    "def area (side):\n",
    "    return side ** 2\n",
    "\n",
    "# Formula for perimeter\n",
    "def perimeter (side):\n",
    "    return side * 4\n",
    "\n",
    "# Enter the length of one side\n",
    "side = float (input (\"Enter the length of one side of the square: \"))\n",
    "\n",
    "# Print the results\n",
    "print (\"The area of the square is: \", area (side))\n",
    "print (\"The perimeter of the square is:\", perimeter (side))\n"
   ]
  },
  {
   "cell_type": "markdown",
   "id": "09e27f09",
   "metadata": {},
   "source": [
    "4. Is it an uppercase or lowercase character?"
   ]
  },
  {
   "cell_type": "code",
   "execution_count": 3,
   "id": "1975eabf",
   "metadata": {},
   "outputs": [
    {
     "name": "stdout",
     "output_type": "stream",
     "text": [
      "The character m is:  Lowercase\n"
     ]
    }
   ],
   "source": [
    "# Is it uppercase or lowercase?\n",
    "def check_case (char):\n",
    "    if char.isupper():\n",
    "        return \"Uppercase\"\n",
    "    elif char.islower():\n",
    "        return \"Lowercase\"\n",
    "    else:\n",
    "        return \"The value you have provided is not a letter.\"\n",
    "\n",
    "# Enter a character\n",
    "char = input (\"Enter a character: \")\n",
    "\n",
    "# Print the result\n",
    "print (\"The character\", char, \"is: \", check_case(char))\n"
   ]
  },
  {
   "cell_type": "markdown",
   "id": "ae184b99",
   "metadata": {},
   "source": [
    "5. Python program for the pseudocode provided."
   ]
  },
  {
   "cell_type": "code",
   "execution_count": 4,
   "id": "b8e3de01",
   "metadata": {},
   "outputs": [
    {
     "name": "stdout",
     "output_type": "stream",
     "text": [
      "The final value of x is:  1.0416666666666665\n"
     ]
    }
   ],
   "source": [
    "# Initialize variables\n",
    "x = 0\n",
    "y = 20\n",
    "\n",
    "# Repeat until y < 6\n",
    "while y >= 6:\n",
    "    # Subtract 4 from y\n",
    "    y = y - 4\n",
    "    #Add 2 / y to x\n",
    "    x = x + (2 / y)\n",
    "\n",
    "# Print the value of x\n",
    "print (\"The final value of x is: \", x)\n"
   ]
  },
  {
   "cell_type": "markdown",
   "id": "f64cedce",
   "metadata": {},
   "source": [
    "6. Loop to input 5 values for an array, calculate and display the average values."
   ]
  },
  {
   "cell_type": "code",
   "execution_count": 6,
   "id": "44e60abb",
   "metadata": {},
   "outputs": [
    {
     "name": "stdout",
     "output_type": "stream",
     "text": [
      "The values entered are:  [26.0, 28.0, 84.0, 29.0, 734.0]\n",
      "The average value is:  180.2\n"
     ]
    }
   ],
   "source": [
    "# Create an empty array list\n",
    "values = []\n",
    "\n",
    "# Loop to enter 5 values\n",
    "for i in range (5):\n",
    "    val = float (input (\"Enter a value:\"))\n",
    "    values.append (val)\n",
    "\n",
    "# Calculate theaverage\n",
    "average = sum (values) / len (values)\n",
    "\n",
    "# Print the result\n",
    "print (\"The values entered are: \", values)\n",
    "print (\"The average value is: \", average)\n"
   ]
  },
  {
   "cell_type": "markdown",
   "id": "357918da",
   "metadata": {},
   "source": [
    "7. Data structures challenge on Codility. Solution on Git Hub Repository."
   ]
  }
 ],
 "metadata": {
  "kernelspec": {
   "display_name": ".venv",
   "language": "python",
   "name": "python3"
  },
  "language_info": {
   "codemirror_mode": {
    "name": "ipython",
    "version": 3
   },
   "file_extension": ".py",
   "mimetype": "text/x-python",
   "name": "python",
   "nbconvert_exporter": "python",
   "pygments_lexer": "ipython3",
   "version": "3.13.5"
  }
 },
 "nbformat": 4,
 "nbformat_minor": 5
}
